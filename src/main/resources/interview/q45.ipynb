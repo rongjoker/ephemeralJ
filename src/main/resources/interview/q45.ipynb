{
 "cells": [
  {
   "attachments": {},
   "cell_type": "markdown",
   "id": "d111e82c",
   "metadata": {},
   "source": []
  },
  {
   "cell_type": "code",
   "execution_count": 2,
   "id": "88940030",
   "metadata": {},
   "outputs": [
    {
     "ename": "SyntaxError",
     "evalue": "invalid syntax (<ipython-input-2-b30829eff8b3>, line 1)",
     "output_type": "error",
     "traceback": [
      "\u001b[1;36m  File \u001b[1;32m\"<ipython-input-2-b30829eff8b3>\"\u001b[1;36m, line \u001b[1;32m1\u001b[0m\n\u001b[1;33m    ```\u001b[0m\n\u001b[1;37m    ^\u001b[0m\n\u001b[1;31mSyntaxError\u001b[0m\u001b[1;31m:\u001b[0m invalid syntax\n"
     ]
    }
   ],
   "source": [
    "\n",
    "```\n",
    "GET location/_search\n",
    "{\n",
    "  \"query\": {\n",
    "    \"geo_distance\": {\n",
    "      \"distance\": \"5km\",\n",
    "      \"locationStr\": \"40.174697,116.5864\"\n",
    "    }\n",
    "  },\n",
    "  \"sort\": [\n",
    "    {\n",
    "      \"_geo_distance\": {\n",
    "        \"locationStr\": \"40.174697,116.5864\",\n",
    "        \"order\": \"asc\",\n",
    "        \"unit\": \"km\",\n",
    "        \"distance_type\": \"plane\"\n",
    "      }\n",
    "    }\n",
    "  ]\n",
    "}\n",
    "\n",
    "# 空间聚合\n",
    "# geo_hash算法, 网格聚合grid\n",
    "# 两次聚合\n",
    "def aggs_geohash_grid():\n",
    "    body = {\n",
    "        \"aggs\": {\n",
    "            \"new_york\": {\n",
    "                \"geohash_grid\": {\n",
    "                    \"field\":     \"point\",\n",
    "                    \"precision\": 5\n",
    "                }\n",
    "            },\n",
    "            \"map_zoom\": {\n",
    "                \"geo_bounds\": {\n",
    "                    \"field\": \"point\"\n",
    "              }\n",
    "            }\n",
    "          }\n",
    "    }\n",
    "\n",
    "```"
   ]
  },
  {
   "cell_type": "code",
   "execution_count": null,
   "id": "f3a86ded",
   "metadata": {},
   "outputs": [],
   "source": []
  }
 ],
 "metadata": {
  "kernelspec": {
   "display_name": "Python 3",
   "language": "python",
   "name": "python3"
  },
  "language_info": {
   "codemirror_mode": {
    "name": "ipython",
    "version": 3
   },
   "file_extension": ".py",
   "mimetype": "text/x-python",
   "name": "python",
   "nbconvert_exporter": "python",
   "pygments_lexer": "ipython3",
   "version": "3.8.8"
  }
 },
 "nbformat": 4,
 "nbformat_minor": 5
}
